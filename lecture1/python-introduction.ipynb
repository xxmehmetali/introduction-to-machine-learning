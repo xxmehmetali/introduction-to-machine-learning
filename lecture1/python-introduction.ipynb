{
 "cells": [
  {
   "cell_type": "code",
   "execution_count": 9,
   "id": "f770374e",
   "metadata": {
    "collapsed": true
   },
   "outputs": [
    {
     "name": "stdout",
     "output_type": "stream",
     "text": [
      "1\n",
      "2\n",
      "this is the string 1\n"
     ]
    }
   ],
   "source": [
    "# declaring variables\n",
    "number1 = 1\n",
    "number2 = 2\n",
    "\n",
    "string1 = \"this is the string 1\"\n",
    "print(number1)\n",
    "print(number2)\n",
    "print(string1)"
   ]
  },
  {
   "cell_type": "code",
   "execution_count": 8,
   "id": "5811e776",
   "metadata": {
    "collapsed": true
   },
   "outputs": [
    {
     "data": {
      "text/plain": [
       "list"
      ]
     },
     "execution_count": 8,
     "metadata": {},
     "output_type": "execute_result"
    }
   ],
   "source": [
    "num1 = 1\n",
    "num2 = 2\n",
    "num3 = 3\n",
    "my_list = [num1, num2, num3]\n",
    "type(my_list)"
   ]
  },
  {
   "cell_type": "code",
   "execution_count": 18,
   "id": "5d55e52c",
   "metadata": {
    "collapsed": true
   },
   "outputs": [
    {
     "name": "stdout",
     "output_type": "stream",
     "text": [
      "1\n",
      "2\n",
      "3\n",
      "[1, 2, 3, 4, 4]\n",
      "[2]\n",
      "[1, 2, 3, 4, 4, 4]\n"
     ]
    }
   ],
   "source": [
    "print(my_list[0])\n",
    "print(my_list[1])\n",
    "print(my_list[2])\n",
    "print(my_list)\n",
    "print(my_list[1:2])\n",
    "my_list.append(4)\n",
    "my_list.remove(2)\n",
    "print(my_list)"
   ]
  },
  {
   "cell_type": "code",
   "execution_count": 21,
   "id": "01f90917",
   "metadata": {},
   "outputs": [
    {
     "name": "stdout",
     "output_type": "stream",
     "text": [
      "[4, 4, 4, 3, 2, 1]\n"
     ]
    }
   ],
   "source": [
    "my_list.reverse()\n",
    "print(my_list)"
   ]
  },
  {
   "cell_type": "code",
   "execution_count": 31,
   "id": "d754a4f5",
   "metadata": {},
   "outputs": [
    {
     "name": "stdout",
     "output_type": "stream",
     "text": [
      "[1, 2, 3, 4, 4, 4]\n"
     ]
    }
   ],
   "source": [
    "my_list.sort()\n",
    "print(my_list)"
   ]
  },
  {
   "cell_type": "code",
   "execution_count": 34,
   "id": "7348ad57",
   "metadata": {
    "collapsed": true
   },
   "outputs": [
    {
     "name": "stdout",
     "output_type": "stream",
     "text": [
      "1\n",
      "2\n",
      "3\n",
      "4\n"
     ]
    }
   ],
   "source": [
    "for loop_var in range(1,5):\n",
    "    print(loop_var)"
   ]
  },
  {
   "cell_type": "code",
   "execution_count": 35,
   "id": "e38e8b80",
   "metadata": {
    "collapsed": true
   },
   "outputs": [
    {
     "name": "stdout",
     "output_type": "stream",
     "text": [
      "[1, 2, 3, 4, 5, 6, 7, 8, 9]\n"
     ]
    }
   ],
   "source": [
    "my_list2 = []\n",
    "for loop_var in range(1,10):\n",
    "    my_list2.append(loop_var)\n",
    "print(my_list2)"
   ]
  },
  {
   "cell_type": "code",
   "execution_count": 38,
   "id": "422fcadb",
   "metadata": {},
   "outputs": [
    {
     "name": "stdout",
     "output_type": "stream",
     "text": [
      "2\n"
     ]
    }
   ],
   "source": [
    "# finding minimum number in a list\n",
    "my_list3 = [21, 2, 3, 14, 66, 110, 5, 7, 38]\n",
    "maximum = my_list3[0]\n",
    "for element in my_list3:\n",
    "    if maximum > element: # change \">\" with \"<\" if you want to find maximum\n",
    "        maximum = element\n",
    "print(maximum)        \n"
   ]
  },
  {
   "cell_type": "code",
   "execution_count": 40,
   "id": "c60de0c5",
   "metadata": {
    "scrolled": false
   },
   "outputs": [
    {
     "name": "stdout",
     "output_type": "stream",
     "text": [
      "0\n",
      "2\n",
      "4\n"
     ]
    }
   ],
   "source": [
    "i = 0\n",
    "while(i < 3):\n",
    "    print(i*2)\n",
    "    i+=1"
   ]
  },
  {
   "cell_type": "code",
   "execution_count": 45,
   "id": "9abef059",
   "metadata": {},
   "outputs": [
    {
     "data": {
      "text/plain": [
       "'defaultName defaultSurname'"
      ]
     },
     "execution_count": 45,
     "metadata": {},
     "output_type": "execute_result"
    }
   ],
   "source": [
    "def func1(name = \"defaultName\", surname = \"defaultSurname\"):\n",
    "    return name + \" \" + surname\n",
    "func1()"
   ]
  },
  {
   "cell_type": "code",
   "execution_count": 50,
   "id": "32542879",
   "metadata": {},
   "outputs": [
    {
     "name": "stdout",
     "output_type": "stream",
     "text": [
      "4\n",
      "8\n"
     ]
    }
   ],
   "source": [
    "# lambdas are used to define simple functions\n",
    "getPowerOf2 = lambda num : num * num\n",
    "print(getPowerOf2(2))\n",
    "\n",
    "addTwoNum = lambda num1, num2 : num1 + num2\n",
    "print(addTwoNum(1,7))"
   ]
  },
  {
   "cell_type": "code",
   "execution_count": 59,
   "id": "9f11be2c",
   "metadata": {},
   "outputs": [
    {
     "name": "stdout",
     "output_type": "stream",
     "text": [
      "dict_values(['ali', 'karadag', 25])\n",
      "dict_keys(['name', 'surname', 'age'])\n",
      "bigger than 20\n"
     ]
    }
   ],
   "source": [
    "dictionary = {\"name\" : \"ali\", \"surname\" : \"karadag\", \"age\" : 25}\n",
    "type(dictionary)\n",
    "print(dictionary.values())\n",
    "print(dictionary.keys())\n",
    "if(\"age\" in dictionary.keys() and dictionary[\"age\"] > 20):\n",
    "    print(\"bigger than 20\")"
   ]
  }
 ],
 "metadata": {
  "kernelspec": {
   "display_name": "Python 3 (ipykernel)",
   "language": "python",
   "name": "python3"
  },
  "language_info": {
   "codemirror_mode": {
    "name": "ipython",
    "version": 3
   },
   "file_extension": ".py",
   "mimetype": "text/x-python",
   "name": "python",
   "nbconvert_exporter": "python",
   "pygments_lexer": "ipython3",
   "version": "3.9.13"
  }
 },
 "nbformat": 4,
 "nbformat_minor": 5
}
